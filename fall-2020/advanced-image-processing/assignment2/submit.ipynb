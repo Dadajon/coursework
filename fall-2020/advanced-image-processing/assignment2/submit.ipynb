{
 "cells": [
  {
   "cell_type": "code",
   "execution_count": 2,
   "metadata": {},
   "outputs": [
    {
     "name": "stdout",
     "output_type": "stream",
     "text": [
      "# conda environments:\r\n",
      "#\r\n",
      "base                     /home/dadajon/opt/anaconda3\r\n",
      "deeplearning          *  /home/dadajon/opt/anaconda3/envs/deeplearning\r\n",
      "scrapy                   /home/dadajon/opt/anaconda3/envs/scrapy\r\n",
      "self-driving-cars        /home/dadajon/opt/anaconda3/envs/self-driving-cars\r\n",
      "\r\n"
     ]
    }
   ],
   "source": []
  },
  {
   "cell_type": "code",
   "execution_count": null,
   "metadata": {},
   "outputs": [],
   "source": []
  }
 ],
 "metadata": {
  "kernelspec": {
   "display_name": "Python 3",
   "language": "python",
   "name": "python3"
  },
  "language_info": {
   "codemirror_mode": {
    "name": "ipython",
    "version": 3
   },
   "file_extension": ".py",
   "mimetype": "text/x-python",
   "name": "python",
   "nbconvert_exporter": "python",
   "pygments_lexer": "ipython3",
   "version": "3.7.9"
  }
 },
 "nbformat": 4,
 "nbformat_minor": 4
}
